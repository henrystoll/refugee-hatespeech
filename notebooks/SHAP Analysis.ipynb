{
 "cells": [
  {
   "cell_type": "code",
   "execution_count": null,
   "id": "c77626bc",
   "metadata": {},
   "outputs": [],
   "source": [
    "from transformers import AutoModelForSequenceClassification, pipeline, AutoTokenizer\n",
    "import shap"
   ]
  },
  {
   "cell_type": "markdown",
   "id": "4276801b",
   "metadata": {},
   "source": [
    "## Load Dataset"
   ]
  },
  {
   "cell_type": "code",
   "execution_count": null,
   "id": "9629b465",
   "metadata": {},
   "outputs": [],
   "source": [
    "unhcr_data = catalog.load(\"test_unhcr\")"
   ]
  },
  {
   "cell_type": "code",
   "execution_count": null,
   "id": "3ad004dc",
   "metadata": {},
   "outputs": [],
   "source": [
    "unhcr_data.head()"
   ]
  },
  {
   "cell_type": "markdown",
   "id": "5a4ba243",
   "metadata": {},
   "source": [
    "## Create Transformer Pipeline"
   ]
  },
  {
   "cell_type": "markdown",
   "id": "b844cf4c",
   "metadata": {},
   "source": [
    "Download tokenizer"
   ]
  },
  {
   "cell_type": "code",
   "execution_count": null,
   "id": "22bb89ee",
   "metadata": {},
   "outputs": [],
   "source": [
    "def _download_tokenizer(tokenizer_identifier: str = \"unhcr/hatespeech-detection\"):\n",
    "    \"\"\"\n",
    "    Downloads the tokenizer that is associated\n",
    "    with the model from https://huggingface.co/unhcr/hatespeech-detection\n",
    "\n",
    "    Parameters\n",
    "    ----------\n",
    "    tokenizer_identifier : str\n",
    "        The name of Huggingface project that the tokenizer is associated with\n",
    "\n",
    "    Returns\n",
    "    -------\n",
    "    tokenizer\n",
    "        Huggingface transformer tokenizer\n",
    "    \"\"\"\n",
    "    return AutoTokenizer.from_pretrained(tokenizer_identifier)"
   ]
  },
  {
   "cell_type": "markdown",
   "id": "de944b9f",
   "metadata": {},
   "source": [
    "Download model"
   ]
  },
  {
   "cell_type": "code",
   "execution_count": null,
   "id": "10eb80a7",
   "metadata": {},
   "outputs": [],
   "source": [
    "def _download_classifier(classifier_identifier: str = \"unhcr/hatespeech-detection\"):\n",
    "    \"\"\"\n",
    "    Downloads the model from https://huggingface.co/unhcr/hatespeech-detection\n",
    "\n",
    "    Parameters\n",
    "    ----------\n",
    "    classifier_identifier : str\n",
    "        The name of Huggingface project that the model is associated with\n",
    "\n",
    "    Returns\n",
    "    -------\n",
    "    model\n",
    "        Huggingface transformer model\n",
    "\n",
    "    Dict\n",
    "        Label mapping from ids to labels\n",
    "\n",
    "    \"\"\"\n",
    "    id2label = {\n",
    "        0: \"Normal\",\n",
    "        1: \"Offensive\",\n",
    "        2: \"Hate speech\",\n",
    "    }\n",
    "\n",
    "    label2id = {id2label[i]: i for i in id2label}\n",
    "\n",
    "    # TODO: add num_labels to config\n",
    "    model = AutoModelForSequenceClassification.from_pretrained(\n",
    "        classifier_identifier, num_labels=3, id2label=id2label, label2id=label2id\n",
    "    )\n",
    "\n",
    "    return model, id2label"
   ]
  },
  {
   "cell_type": "markdown",
   "id": "cdabbdb4",
   "metadata": {},
   "source": [
    "Create pipeline"
   ]
  },
  {
   "cell_type": "code",
   "execution_count": null,
   "id": "26deaedf",
   "metadata": {},
   "outputs": [],
   "source": [
    "local = True\n",
    "tokenizer = _download_tokenizer()\n",
    "classifier, id2label = _download_classifier()\n",
    "\n",
    "inference_pipeline = pipeline(\n",
    "    task=\"text-classification\",\n",
    "    tokenizer=tokenizer,\n",
    "    model=classifier,\n",
    "    device=-1 if local else 0,\n",
    "    top_k=3,\n",
    "    max_length=128,\n",
    "    padding=True,\n",
    "    truncation=True,\n",
    ")"
   ]
  },
  {
   "cell_type": "markdown",
   "id": "e19a6f9b",
   "metadata": {},
   "source": [
    "## SHAP Analysis"
   ]
  },
  {
   "cell_type": "markdown",
   "id": "3605a3fa",
   "metadata": {},
   "source": [
    "The code below takes long time to run. It is advised that this is run on a GPU or large CPU.\n",
    "\n",
    "For the purpose of the example, shap values are only calculated for two text samples."
   ]
  },
  {
   "cell_type": "code",
   "execution_count": null,
   "id": "9d64a63a",
   "metadata": {},
   "outputs": [],
   "source": [
    "explainer = shap.Explainer(inference_pipeline, inference_pipeline.tokenizer)\n",
    "shap_values = explainer(unhcr_data[\"text\"][:2])"
   ]
  },
  {
   "cell_type": "markdown",
   "id": "50c657d0",
   "metadata": {},
   "source": [
    "### Sentence-level: Text"
   ]
  },
  {
   "cell_type": "code",
   "execution_count": null,
   "id": "1a663306",
   "metadata": {},
   "outputs": [],
   "source": [
    "# Plot the results for the first sentence\n",
    "shap.plots.text(shap_values[0])"
   ]
  },
  {
   "cell_type": "markdown",
   "id": "097bee39",
   "metadata": {},
   "source": [
    "### Sentence-level: Waterfall"
   ]
  },
  {
   "cell_type": "code",
   "execution_count": null,
   "id": "3094d163",
   "metadata": {},
   "outputs": [],
   "source": [
    "shap.plots.waterfall(shap_values[0])"
   ]
  },
  {
   "cell_type": "markdown",
   "id": "684c4caa",
   "metadata": {},
   "source": [
    "### Top Most Important Features for the Hate Speech Class"
   ]
  },
  {
   "cell_type": "code",
   "execution_count": null,
   "id": "1e6ffa11",
   "metadata": {},
   "outputs": [],
   "source": [
    "shap.plots.bar(shap_values[:,:,2].mean(0), order=shap.Explanation.argsort.flip, max_display=15)"
   ]
  }
 ],
 "metadata": {
  "kernelspec": {
   "display_name": "Kedro (unhcr_hatespeech)",
   "language": "python",
   "name": "kedro_unhcr_hatespeech"
  },
  "language_info": {
   "codemirror_mode": {
    "name": "ipython",
    "version": 3
   },
   "file_extension": ".py",
   "mimetype": "text/x-python",
   "name": "python",
   "nbconvert_exporter": "python",
   "pygments_lexer": "ipython3",
   "version": "3.9.13"
  }
 },
 "nbformat": 4,
 "nbformat_minor": 5
}
