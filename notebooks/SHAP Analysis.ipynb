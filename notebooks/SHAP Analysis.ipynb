{
 "cells": [
  {
   "cell_type": "code",
   "execution_count": 1,
   "id": "c77626bc",
   "metadata": {},
   "outputs": [
    {
     "name": "stdout",
     "output_type": "stream",
     "text": [
      "2022-09-09 00:13:05,679 - py.warnings - WARNING - C:\\Users\\frede\\anaconda3\\envs\\unhcr-hate-speech-kedro\\lib\\site-packages\\tensorflow\\core\\framework\\tensor_shape_pb2.py:18: DeprecationWarning: Call to deprecated create function FileDescriptor(). Note: Create unlinked descriptors is going to go away. Please use get/find descriptors from generated code or query the descriptor_pool.\n",
      "  DESCRIPTOR = _descriptor.FileDescriptor(\n",
      "\n",
      "2022-09-09 00:13:05,684 - py.warnings - WARNING - C:\\Users\\frede\\anaconda3\\envs\\unhcr-hate-speech-kedro\\lib\\site-packages\\tensorflow\\core\\framework\\tensor_shape_pb2.py:36: DeprecationWarning: Call to deprecated create function FieldDescriptor(). Note: Create unlinked descriptors is going to go away. Please use get/find descriptors from generated code or query the descriptor_pool.\n",
      "  _descriptor.FieldDescriptor(\n",
      "\n",
      "2022-09-09 00:13:05,686 - py.warnings - WARNING - C:\\Users\\frede\\anaconda3\\envs\\unhcr-hate-speech-kedro\\lib\\site-packages\\tensorflow\\core\\framework\\tensor_shape_pb2.py:43: DeprecationWarning: Call to deprecated create function FieldDescriptor(). Note: Create unlinked descriptors is going to go away. Please use get/find descriptors from generated code or query the descriptor_pool.\n",
      "  _descriptor.FieldDescriptor(\n",
      "\n",
      "2022-09-09 00:13:05,690 - py.warnings - WARNING - C:\\Users\\frede\\anaconda3\\envs\\unhcr-hate-speech-kedro\\lib\\site-packages\\tensorflow\\core\\framework\\tensor_shape_pb2.py:29: DeprecationWarning: Call to deprecated create function Descriptor(). Note: Create unlinked descriptors is going to go away. Please use get/find descriptors from generated code or query the descriptor_pool.\n",
      "  _TENSORSHAPEPROTO_DIM = _descriptor.Descriptor(\n",
      "\n",
      "2022-09-09 00:13:05,694 - py.warnings - WARNING - C:\\Users\\frede\\anaconda3\\envs\\unhcr-hate-speech-kedro\\lib\\site-packages\\tensorflow\\core\\framework\\tensor_shape_pb2.py:73: DeprecationWarning: Call to deprecated create function FieldDescriptor(). Note: Create unlinked descriptors is going to go away. Please use get/find descriptors from generated code or query the descriptor_pool.\n",
      "  _descriptor.FieldDescriptor(\n",
      "\n",
      "2022-09-09 00:13:05,698 - py.warnings - WARNING - C:\\Users\\frede\\anaconda3\\envs\\unhcr-hate-speech-kedro\\lib\\site-packages\\tensorflow\\core\\framework\\tensor_shape_pb2.py:80: DeprecationWarning: Call to deprecated create function FieldDescriptor(). Note: Create unlinked descriptors is going to go away. Please use get/find descriptors from generated code or query the descriptor_pool.\n",
      "  _descriptor.FieldDescriptor(\n",
      "\n",
      "2022-09-09 00:13:05,702 - py.warnings - WARNING - C:\\Users\\frede\\anaconda3\\envs\\unhcr-hate-speech-kedro\\lib\\site-packages\\tensorflow\\core\\framework\\tensor_shape_pb2.py:66: DeprecationWarning: Call to deprecated create function Descriptor(). Note: Create unlinked descriptors is going to go away. Please use get/find descriptors from generated code or query the descriptor_pool.\n",
      "  _TENSORSHAPEPROTO = _descriptor.Descriptor(\n",
      "\n",
      "2022-09-09 00:13:05,709 - py.warnings - WARNING - C:\\Users\\frede\\anaconda3\\envs\\unhcr-hate-speech-kedro\\lib\\site-packages\\tensorflow\\core\\framework\\types_pb2.py:19: DeprecationWarning: Call to deprecated create function FileDescriptor(). Note: Create unlinked descriptors is going to go away. Please use get/find descriptors from generated code or query the descriptor_pool.\n",
      "  DESCRIPTOR = _descriptor.FileDescriptor(\n",
      "\n",
      "2022-09-09 00:13:05,714 - py.warnings - WARNING - C:\\Users\\frede\\anaconda3\\envs\\unhcr-hate-speech-kedro\\lib\\site-packages\\tensorflow\\core\\framework\\types_pb2.py:33: DeprecationWarning: Call to deprecated create function EnumValueDescriptor(). Note: Create unlinked descriptors is going to go away. Please use get/find descriptors from generated code or query the descriptor_pool.\n",
      "  _descriptor.EnumValueDescriptor(\n",
      "\n",
      "2022-09-09 00:13:05,718 - py.warnings - WARNING - C:\\Users\\frede\\anaconda3\\envs\\unhcr-hate-speech-kedro\\lib\\site-packages\\tensorflow\\core\\framework\\types_pb2.py:37: DeprecationWarning: Call to deprecated create function EnumValueDescriptor(). Note: Create unlinked descriptors is going to go away. Please use get/find descriptors from generated code or query the descriptor_pool.\n",
      "  _descriptor.EnumValueDescriptor(\n",
      "\n",
      "2022-09-09 00:13:05,722 - py.warnings - WARNING - C:\\Users\\frede\\anaconda3\\envs\\unhcr-hate-speech-kedro\\lib\\site-packages\\tensorflow\\core\\framework\\types_pb2.py:41: DeprecationWarning: Call to deprecated create function EnumValueDescriptor(). Note: Create unlinked descriptors is going to go away. Please use get/find descriptors from generated code or query the descriptor_pool.\n",
      "  _descriptor.EnumValueDescriptor(\n",
      "\n",
      "2022-09-09 00:13:05,727 - py.warnings - WARNING - C:\\Users\\frede\\anaconda3\\envs\\unhcr-hate-speech-kedro\\lib\\site-packages\\tensorflow\\core\\framework\\types_pb2.py:45: DeprecationWarning: Call to deprecated create function EnumValueDescriptor(). Note: Create unlinked descriptors is going to go away. Please use get/find descriptors from generated code or query the descriptor_pool.\n",
      "  _descriptor.EnumValueDescriptor(\n",
      "\n",
      "2022-09-09 00:13:05,731 - py.warnings - WARNING - C:\\Users\\frede\\anaconda3\\envs\\unhcr-hate-speech-kedro\\lib\\site-packages\\tensorflow\\core\\framework\\types_pb2.py:49: DeprecationWarning: Call to deprecated create function EnumValueDescriptor(). Note: Create unlinked descriptors is going to go away. Please use get/find descriptors from generated code or query the descriptor_pool.\n",
      "  _descriptor.EnumValueDescriptor(\n",
      "\n",
      "2022-09-09 00:13:05,735 - py.warnings - WARNING - C:\\Users\\frede\\anaconda3\\envs\\unhcr-hate-speech-kedro\\lib\\site-packages\\tensorflow\\core\\framework\\types_pb2.py:53: DeprecationWarning: Call to deprecated create function EnumValueDescriptor(). Note: Create unlinked descriptors is going to go away. Please use get/find descriptors from generated code or query the descriptor_pool.\n",
      "  _descriptor.EnumValueDescriptor(\n",
      "\n",
      "2022-09-09 00:13:05,739 - py.warnings - WARNING - C:\\Users\\frede\\anaconda3\\envs\\unhcr-hate-speech-kedro\\lib\\site-packages\\tensorflow\\core\\framework\\types_pb2.py:57: DeprecationWarning: Call to deprecated create function EnumValueDescriptor(). Note: Create unlinked descriptors is going to go away. Please use get/find descriptors from generated code or query the descriptor_pool.\n",
      "  _descriptor.EnumValueDescriptor(\n",
      "\n",
      "2022-09-09 00:13:05,744 - py.warnings - WARNING - C:\\Users\\frede\\anaconda3\\envs\\unhcr-hate-speech-kedro\\lib\\site-packages\\tensorflow\\core\\framework\\types_pb2.py:61: DeprecationWarning: Call to deprecated create function EnumValueDescriptor(). Note: Create unlinked descriptors is going to go away. Please use get/find descriptors from generated code or query the descriptor_pool.\n",
      "  _descriptor.EnumValueDescriptor(\n",
      "\n",
      "2022-09-09 00:13:05,748 - py.warnings - WARNING - C:\\Users\\frede\\anaconda3\\envs\\unhcr-hate-speech-kedro\\lib\\site-packages\\tensorflow\\core\\framework\\types_pb2.py:65: DeprecationWarning: Call to deprecated create function EnumValueDescriptor(). Note: Create unlinked descriptors is going to go away. Please use get/find descriptors from generated code or query the descriptor_pool.\n",
      "  _descriptor.EnumValueDescriptor(\n",
      "\n",
      "2022-09-09 00:13:05,752 - py.warnings - WARNING - C:\\Users\\frede\\anaconda3\\envs\\unhcr-hate-speech-kedro\\lib\\site-packages\\tensorflow\\core\\framework\\types_pb2.py:69: DeprecationWarning: Call to deprecated create function EnumValueDescriptor(). Note: Create unlinked descriptors is going to go away. Please use get/find descriptors from generated code or query the descriptor_pool.\n",
      "  _descriptor.EnumValueDescriptor(\n",
      "\n",
      "2022-09-09 00:13:05,756 - py.warnings - WARNING - C:\\Users\\frede\\anaconda3\\envs\\unhcr-hate-speech-kedro\\lib\\site-packages\\tensorflow\\core\\framework\\types_pb2.py:73: DeprecationWarning: Call to deprecated create function EnumValueDescriptor(). Note: Create unlinked descriptors is going to go away. Please use get/find descriptors from generated code or query the descriptor_pool.\n",
      "  _descriptor.EnumValueDescriptor(\n",
      "\n",
      "2022-09-09 00:13:05,761 - py.warnings - WARNING - C:\\Users\\frede\\anaconda3\\envs\\unhcr-hate-speech-kedro\\lib\\site-packages\\tensorflow\\core\\framework\\types_pb2.py:77: DeprecationWarning: Call to deprecated create function EnumValueDescriptor(). Note: Create unlinked descriptors is going to go away. Please use get/find descriptors from generated code or query the descriptor_pool.\n",
      "  _descriptor.EnumValueDescriptor(\n",
      "\n"
     ]
    },
    {
     "name": "stdout",
     "output_type": "stream",
     "text": [
      "2022-09-09 00:13:05,765 - py.warnings - WARNING - C:\\Users\\frede\\anaconda3\\envs\\unhcr-hate-speech-kedro\\lib\\site-packages\\tensorflow\\core\\framework\\types_pb2.py:81: DeprecationWarning: Call to deprecated create function EnumValueDescriptor(). Note: Create unlinked descriptors is going to go away. Please use get/find descriptors from generated code or query the descriptor_pool.\n",
      "  _descriptor.EnumValueDescriptor(\n",
      "\n",
      "2022-09-09 00:13:05,769 - py.warnings - WARNING - C:\\Users\\frede\\anaconda3\\envs\\unhcr-hate-speech-kedro\\lib\\site-packages\\tensorflow\\core\\framework\\types_pb2.py:85: DeprecationWarning: Call to deprecated create function EnumValueDescriptor(). Note: Create unlinked descriptors is going to go away. Please use get/find descriptors from generated code or query the descriptor_pool.\n",
      "  _descriptor.EnumValueDescriptor(\n",
      "\n",
      "2022-09-09 00:13:05,773 - py.warnings - WARNING - C:\\Users\\frede\\anaconda3\\envs\\unhcr-hate-speech-kedro\\lib\\site-packages\\tensorflow\\core\\framework\\types_pb2.py:89: DeprecationWarning: Call to deprecated create function EnumValueDescriptor(). Note: Create unlinked descriptors is going to go away. Please use get/find descriptors from generated code or query the descriptor_pool.\n",
      "  _descriptor.EnumValueDescriptor(\n",
      "\n",
      "2022-09-09 00:13:05,777 - py.warnings - WARNING - C:\\Users\\frede\\anaconda3\\envs\\unhcr-hate-speech-kedro\\lib\\site-packages\\tensorflow\\core\\framework\\types_pb2.py:93: DeprecationWarning: Call to deprecated create function EnumValueDescriptor(). Note: Create unlinked descriptors is going to go away. Please use get/find descriptors from generated code or query the descriptor_pool.\n",
      "  _descriptor.EnumValueDescriptor(\n",
      "\n",
      "2022-09-09 00:13:05,782 - py.warnings - WARNING - C:\\Users\\frede\\anaconda3\\envs\\unhcr-hate-speech-kedro\\lib\\site-packages\\tensorflow\\core\\framework\\types_pb2.py:97: DeprecationWarning: Call to deprecated create function EnumValueDescriptor(). Note: Create unlinked descriptors is going to go away. Please use get/find descriptors from generated code or query the descriptor_pool.\n",
      "  _descriptor.EnumValueDescriptor(\n",
      "\n",
      "2022-09-09 00:13:05,786 - py.warnings - WARNING - C:\\Users\\frede\\anaconda3\\envs\\unhcr-hate-speech-kedro\\lib\\site-packages\\tensorflow\\core\\framework\\types_pb2.py:101: DeprecationWarning: Call to deprecated create function EnumValueDescriptor(). Note: Create unlinked descriptors is going to go away. Please use get/find descriptors from generated code or query the descriptor_pool.\n",
      "  _descriptor.EnumValueDescriptor(\n",
      "\n",
      "2022-09-09 00:13:05,790 - py.warnings - WARNING - C:\\Users\\frede\\anaconda3\\envs\\unhcr-hate-speech-kedro\\lib\\site-packages\\tensorflow\\core\\framework\\types_pb2.py:105: DeprecationWarning: Call to deprecated create function EnumValueDescriptor(). Note: Create unlinked descriptors is going to go away. Please use get/find descriptors from generated code or query the descriptor_pool.\n",
      "  _descriptor.EnumValueDescriptor(\n",
      "\n",
      "2022-09-09 00:13:05,795 - py.warnings - WARNING - C:\\Users\\frede\\anaconda3\\envs\\unhcr-hate-speech-kedro\\lib\\site-packages\\tensorflow\\core\\framework\\types_pb2.py:109: DeprecationWarning: Call to deprecated create function EnumValueDescriptor(). Note: Create unlinked descriptors is going to go away. Please use get/find descriptors from generated code or query the descriptor_pool.\n",
      "  _descriptor.EnumValueDescriptor(\n",
      "\n",
      "2022-09-09 00:13:05,800 - py.warnings - WARNING - C:\\Users\\frede\\anaconda3\\envs\\unhcr-hate-speech-kedro\\lib\\site-packages\\tensorflow\\core\\framework\\types_pb2.py:113: DeprecationWarning: Call to deprecated create function EnumValueDescriptor(). Note: Create unlinked descriptors is going to go away. Please use get/find descriptors from generated code or query the descriptor_pool.\n",
      "  _descriptor.EnumValueDescriptor(\n",
      "\n",
      "2022-09-09 00:13:05,803 - py.warnings - WARNING - C:\\Users\\frede\\anaconda3\\envs\\unhcr-hate-speech-kedro\\lib\\site-packages\\tensorflow\\core\\framework\\types_pb2.py:117: DeprecationWarning: Call to deprecated create function EnumValueDescriptor(). Note: Create unlinked descriptors is going to go away. Please use get/find descriptors from generated code or query the descriptor_pool.\n",
      "  _descriptor.EnumValueDescriptor(\n",
      "\n",
      "2022-09-09 00:13:05,807 - py.warnings - WARNING - C:\\Users\\frede\\anaconda3\\envs\\unhcr-hate-speech-kedro\\lib\\site-packages\\tensorflow\\core\\framework\\types_pb2.py:121: DeprecationWarning: Call to deprecated create function EnumValueDescriptor(). Note: Create unlinked descriptors is going to go away. Please use get/find descriptors from generated code or query the descriptor_pool.\n",
      "  _descriptor.EnumValueDescriptor(\n",
      "\n",
      "2022-09-09 00:13:05,811 - py.warnings - WARNING - C:\\Users\\frede\\anaconda3\\envs\\unhcr-hate-speech-kedro\\lib\\site-packages\\tensorflow\\core\\framework\\types_pb2.py:125: DeprecationWarning: Call to deprecated create function EnumValueDescriptor(). Note: Create unlinked descriptors is going to go away. Please use get/find descriptors from generated code or query the descriptor_pool.\n",
      "  _descriptor.EnumValueDescriptor(\n",
      "\n",
      "2022-09-09 00:13:05,816 - py.warnings - WARNING - C:\\Users\\frede\\anaconda3\\envs\\unhcr-hate-speech-kedro\\lib\\site-packages\\tensorflow\\core\\framework\\types_pb2.py:129: DeprecationWarning: Call to deprecated create function EnumValueDescriptor(). Note: Create unlinked descriptors is going to go away. Please use get/find descriptors from generated code or query the descriptor_pool.\n",
      "  _descriptor.EnumValueDescriptor(\n",
      "\n",
      "2022-09-09 00:13:05,819 - py.warnings - WARNING - C:\\Users\\frede\\anaconda3\\envs\\unhcr-hate-speech-kedro\\lib\\site-packages\\tensorflow\\core\\framework\\types_pb2.py:133: DeprecationWarning: Call to deprecated create function EnumValueDescriptor(). Note: Create unlinked descriptors is going to go away. Please use get/find descriptors from generated code or query the descriptor_pool.\n",
      "  _descriptor.EnumValueDescriptor(\n",
      "\n",
      "2022-09-09 00:13:05,823 - py.warnings - WARNING - C:\\Users\\frede\\anaconda3\\envs\\unhcr-hate-speech-kedro\\lib\\site-packages\\tensorflow\\core\\framework\\types_pb2.py:137: DeprecationWarning: Call to deprecated create function EnumValueDescriptor(). Note: Create unlinked descriptors is going to go away. Please use get/find descriptors from generated code or query the descriptor_pool.\n",
      "  _descriptor.EnumValueDescriptor(\n",
      "\n",
      "2022-09-09 00:13:05,827 - py.warnings - WARNING - C:\\Users\\frede\\anaconda3\\envs\\unhcr-hate-speech-kedro\\lib\\site-packages\\tensorflow\\core\\framework\\types_pb2.py:141: DeprecationWarning: Call to deprecated create function EnumValueDescriptor(). Note: Create unlinked descriptors is going to go away. Please use get/find descriptors from generated code or query the descriptor_pool.\n",
      "  _descriptor.EnumValueDescriptor(\n",
      "\n",
      "2022-09-09 00:13:05,831 - py.warnings - WARNING - C:\\Users\\frede\\anaconda3\\envs\\unhcr-hate-speech-kedro\\lib\\site-packages\\tensorflow\\core\\framework\\types_pb2.py:145: DeprecationWarning: Call to deprecated create function EnumValueDescriptor(). Note: Create unlinked descriptors is going to go away. Please use get/find descriptors from generated code or query the descriptor_pool.\n",
      "  _descriptor.EnumValueDescriptor(\n",
      "\n",
      "2022-09-09 00:13:05,835 - py.warnings - WARNING - C:\\Users\\frede\\anaconda3\\envs\\unhcr-hate-speech-kedro\\lib\\site-packages\\tensorflow\\core\\framework\\types_pb2.py:149: DeprecationWarning: Call to deprecated create function EnumValueDescriptor(). Note: Create unlinked descriptors is going to go away. Please use get/find descriptors from generated code or query the descriptor_pool.\n",
      "  _descriptor.EnumValueDescriptor(\n",
      "\n",
      "2022-09-09 00:13:05,838 - py.warnings - WARNING - C:\\Users\\frede\\anaconda3\\envs\\unhcr-hate-speech-kedro\\lib\\site-packages\\tensorflow\\core\\framework\\types_pb2.py:153: DeprecationWarning: Call to deprecated create function EnumValueDescriptor(). Note: Create unlinked descriptors is going to go away. Please use get/find descriptors from generated code or query the descriptor_pool.\n",
      "  _descriptor.EnumValueDescriptor(\n",
      "\n",
      "2022-09-09 00:13:05,843 - py.warnings - WARNING - C:\\Users\\frede\\anaconda3\\envs\\unhcr-hate-speech-kedro\\lib\\site-packages\\tensorflow\\core\\framework\\types_pb2.py:157: DeprecationWarning: Call to deprecated create function EnumValueDescriptor(). Note: Create unlinked descriptors is going to go away. Please use get/find descriptors from generated code or query the descriptor_pool.\n",
      "  _descriptor.EnumValueDescriptor(\n",
      "\n"
     ]
    },
    {
     "name": "stdout",
     "output_type": "stream",
     "text": [
      "2022-09-09 00:13:05,848 - py.warnings - WARNING - C:\\Users\\frede\\anaconda3\\envs\\unhcr-hate-speech-kedro\\lib\\site-packages\\tensorflow\\core\\framework\\types_pb2.py:161: DeprecationWarning: Call to deprecated create function EnumValueDescriptor(). Note: Create unlinked descriptors is going to go away. Please use get/find descriptors from generated code or query the descriptor_pool.\n",
      "  _descriptor.EnumValueDescriptor(\n",
      "\n",
      "2022-09-09 00:13:05,851 - py.warnings - WARNING - C:\\Users\\frede\\anaconda3\\envs\\unhcr-hate-speech-kedro\\lib\\site-packages\\tensorflow\\core\\framework\\types_pb2.py:165: DeprecationWarning: Call to deprecated create function EnumValueDescriptor(). Note: Create unlinked descriptors is going to go away. Please use get/find descriptors from generated code or query the descriptor_pool.\n",
      "  _descriptor.EnumValueDescriptor(\n",
      "\n",
      "2022-09-09 00:13:05,855 - py.warnings - WARNING - C:\\Users\\frede\\anaconda3\\envs\\unhcr-hate-speech-kedro\\lib\\site-packages\\tensorflow\\core\\framework\\types_pb2.py:169: DeprecationWarning: Call to deprecated create function EnumValueDescriptor(). Note: Create unlinked descriptors is going to go away. Please use get/find descriptors from generated code or query the descriptor_pool.\n",
      "  _descriptor.EnumValueDescriptor(\n",
      "\n",
      "2022-09-09 00:13:05,859 - py.warnings - WARNING - C:\\Users\\frede\\anaconda3\\envs\\unhcr-hate-speech-kedro\\lib\\site-packages\\tensorflow\\core\\framework\\types_pb2.py:173: DeprecationWarning: Call to deprecated create function EnumValueDescriptor(). Note: Create unlinked descriptors is going to go away. Please use get/find descriptors from generated code or query the descriptor_pool.\n",
      "  _descriptor.EnumValueDescriptor(\n",
      "\n",
      "2022-09-09 00:13:05,863 - py.warnings - WARNING - C:\\Users\\frede\\anaconda3\\envs\\unhcr-hate-speech-kedro\\lib\\site-packages\\tensorflow\\core\\framework\\types_pb2.py:177: DeprecationWarning: Call to deprecated create function EnumValueDescriptor(). Note: Create unlinked descriptors is going to go away. Please use get/find descriptors from generated code or query the descriptor_pool.\n",
      "  _descriptor.EnumValueDescriptor(\n",
      "\n",
      "2022-09-09 00:13:05,867 - py.warnings - WARNING - C:\\Users\\frede\\anaconda3\\envs\\unhcr-hate-speech-kedro\\lib\\site-packages\\tensorflow\\core\\framework\\types_pb2.py:181: DeprecationWarning: Call to deprecated create function EnumValueDescriptor(). Note: Create unlinked descriptors is going to go away. Please use get/find descriptors from generated code or query the descriptor_pool.\n",
      "  _descriptor.EnumValueDescriptor(\n",
      "\n",
      "2022-09-09 00:13:05,871 - py.warnings - WARNING - C:\\Users\\frede\\anaconda3\\envs\\unhcr-hate-speech-kedro\\lib\\site-packages\\tensorflow\\core\\framework\\types_pb2.py:185: DeprecationWarning: Call to deprecated create function EnumValueDescriptor(). Note: Create unlinked descriptors is going to go away. Please use get/find descriptors from generated code or query the descriptor_pool.\n",
      "  _descriptor.EnumValueDescriptor(\n",
      "\n",
      "2022-09-09 00:13:05,876 - py.warnings - WARNING - C:\\Users\\frede\\anaconda3\\envs\\unhcr-hate-speech-kedro\\lib\\site-packages\\tensorflow\\core\\framework\\types_pb2.py:189: DeprecationWarning: Call to deprecated create function EnumValueDescriptor(). Note: Create unlinked descriptors is going to go away. Please use get/find descriptors from generated code or query the descriptor_pool.\n",
      "  _descriptor.EnumValueDescriptor(\n",
      "\n",
      "2022-09-09 00:13:05,880 - py.warnings - WARNING - C:\\Users\\frede\\anaconda3\\envs\\unhcr-hate-speech-kedro\\lib\\site-packages\\tensorflow\\core\\framework\\types_pb2.py:193: DeprecationWarning: Call to deprecated create function EnumValueDescriptor(). Note: Create unlinked descriptors is going to go away. Please use get/find descriptors from generated code or query the descriptor_pool.\n",
      "  _descriptor.EnumValueDescriptor(\n",
      "\n",
      "2022-09-09 00:13:05,885 - py.warnings - WARNING - C:\\Users\\frede\\anaconda3\\envs\\unhcr-hate-speech-kedro\\lib\\site-packages\\tensorflow\\core\\framework\\types_pb2.py:197: DeprecationWarning: Call to deprecated create function EnumValueDescriptor(). Note: Create unlinked descriptors is going to go away. Please use get/find descriptors from generated code or query the descriptor_pool.\n",
      "  _descriptor.EnumValueDescriptor(\n",
      "\n",
      "2022-09-09 00:13:05,889 - py.warnings - WARNING - C:\\Users\\frede\\anaconda3\\envs\\unhcr-hate-speech-kedro\\lib\\site-packages\\tensorflow\\core\\framework\\types_pb2.py:201: DeprecationWarning: Call to deprecated create function EnumValueDescriptor(). Note: Create unlinked descriptors is going to go away. Please use get/find descriptors from generated code or query the descriptor_pool.\n",
      "  _descriptor.EnumValueDescriptor(\n",
      "\n",
      "2022-09-09 00:13:05,894 - py.warnings - WARNING - C:\\Users\\frede\\anaconda3\\envs\\unhcr-hate-speech-kedro\\lib\\site-packages\\tensorflow\\core\\framework\\types_pb2.py:205: DeprecationWarning: Call to deprecated create function EnumValueDescriptor(). Note: Create unlinked descriptors is going to go away. Please use get/find descriptors from generated code or query the descriptor_pool.\n",
      "  _descriptor.EnumValueDescriptor(\n",
      "\n",
      "2022-09-09 00:13:05,898 - py.warnings - WARNING - C:\\Users\\frede\\anaconda3\\envs\\unhcr-hate-speech-kedro\\lib\\site-packages\\tensorflow\\core\\framework\\types_pb2.py:209: DeprecationWarning: Call to deprecated create function EnumValueDescriptor(). Note: Create unlinked descriptors is going to go away. Please use get/find descriptors from generated code or query the descriptor_pool.\n",
      "  _descriptor.EnumValueDescriptor(\n",
      "\n",
      "2022-09-09 00:13:05,903 - py.warnings - WARNING - C:\\Users\\frede\\anaconda3\\envs\\unhcr-hate-speech-kedro\\lib\\site-packages\\tensorflow\\core\\framework\\types_pb2.py:213: DeprecationWarning: Call to deprecated create function EnumValueDescriptor(). Note: Create unlinked descriptors is going to go away. Please use get/find descriptors from generated code or query the descriptor_pool.\n",
      "  _descriptor.EnumValueDescriptor(\n",
      "\n",
      "2022-09-09 00:13:05,906 - py.warnings - WARNING - C:\\Users\\frede\\anaconda3\\envs\\unhcr-hate-speech-kedro\\lib\\site-packages\\tensorflow\\core\\framework\\types_pb2.py:217: DeprecationWarning: Call to deprecated create function EnumValueDescriptor(). Note: Create unlinked descriptors is going to go away. Please use get/find descriptors from generated code or query the descriptor_pool.\n",
      "  _descriptor.EnumValueDescriptor(\n",
      "\n",
      "2022-09-09 00:13:05,912 - py.warnings - WARNING - C:\\Users\\frede\\anaconda3\\envs\\unhcr-hate-speech-kedro\\lib\\site-packages\\tensorflow\\core\\framework\\types_pb2.py:27: DeprecationWarning: Call to deprecated create function EnumDescriptor(). Note: Create unlinked descriptors is going to go away. Please use get/find descriptors from generated code or query the descriptor_pool.\n",
      "  _DATATYPE = _descriptor.EnumDescriptor(\n",
      "\n",
      "2022-09-09 00:13:05,917 - py.warnings - WARNING - C:\\Users\\frede\\anaconda3\\envs\\unhcr-hate-speech-kedro\\lib\\site-packages\\tensorflow\\core\\framework\\resource_handle_pb2.py:20: DeprecationWarning: Call to deprecated create function FileDescriptor(). Note: Create unlinked descriptors is going to go away. Please use get/find descriptors from generated code or query the descriptor_pool.\n",
      "  DESCRIPTOR = _descriptor.FileDescriptor(\n",
      "\n",
      "2022-09-09 00:13:05,921 - py.warnings - WARNING - C:\\Users\\frede\\anaconda3\\envs\\unhcr-hate-speech-kedro\\lib\\site-packages\\tensorflow\\core\\framework\\resource_handle_pb2.py:39: DeprecationWarning: Call to deprecated create function FieldDescriptor(). Note: Create unlinked descriptors is going to go away. Please use get/find descriptors from generated code or query the descriptor_pool.\n",
      "  _descriptor.FieldDescriptor(\n",
      "\n",
      "2022-09-09 00:13:05,925 - py.warnings - WARNING - C:\\Users\\frede\\anaconda3\\envs\\unhcr-hate-speech-kedro\\lib\\site-packages\\tensorflow\\core\\framework\\resource_handle_pb2.py:46: DeprecationWarning: Call to deprecated create function FieldDescriptor(). Note: Create unlinked descriptors is going to go away. Please use get/find descriptors from generated code or query the descriptor_pool.\n",
      "  _descriptor.FieldDescriptor(\n",
      "\n",
      "2022-09-09 00:13:05,930 - py.warnings - WARNING - C:\\Users\\frede\\anaconda3\\envs\\unhcr-hate-speech-kedro\\lib\\site-packages\\tensorflow\\core\\framework\\resource_handle_pb2.py:32: DeprecationWarning: Call to deprecated create function Descriptor(). Note: Create unlinked descriptors is going to go away. Please use get/find descriptors from generated code or query the descriptor_pool.\n",
      "  _RESOURCEHANDLEPROTO_DTYPEANDSHAPE = _descriptor.Descriptor(\n",
      "\n"
     ]
    },
    {
     "name": "stdout",
     "output_type": "stream",
     "text": [
      "2022-09-09 00:13:05,934 - py.warnings - WARNING - C:\\Users\\frede\\anaconda3\\envs\\unhcr-hate-speech-kedro\\lib\\site-packages\\tensorflow\\core\\framework\\resource_handle_pb2.py:76: DeprecationWarning: Call to deprecated create function FieldDescriptor(). Note: Create unlinked descriptors is going to go away. Please use get/find descriptors from generated code or query the descriptor_pool.\n",
      "  _descriptor.FieldDescriptor(\n",
      "\n",
      "2022-09-09 00:13:05,938 - py.warnings - WARNING - C:\\Users\\frede\\anaconda3\\envs\\unhcr-hate-speech-kedro\\lib\\site-packages\\tensorflow\\core\\framework\\resource_handle_pb2.py:83: DeprecationWarning: Call to deprecated create function FieldDescriptor(). Note: Create unlinked descriptors is going to go away. Please use get/find descriptors from generated code or query the descriptor_pool.\n",
      "  _descriptor.FieldDescriptor(\n",
      "\n",
      "2022-09-09 00:13:05,942 - py.warnings - WARNING - C:\\Users\\frede\\anaconda3\\envs\\unhcr-hate-speech-kedro\\lib\\site-packages\\tensorflow\\core\\framework\\resource_handle_pb2.py:90: DeprecationWarning: Call to deprecated create function FieldDescriptor(). Note: Create unlinked descriptors is going to go away. Please use get/find descriptors from generated code or query the descriptor_pool.\n",
      "  _descriptor.FieldDescriptor(\n",
      "\n",
      "2022-09-09 00:13:05,947 - py.warnings - WARNING - C:\\Users\\frede\\anaconda3\\envs\\unhcr-hate-speech-kedro\\lib\\site-packages\\tensorflow\\core\\framework\\resource_handle_pb2.py:97: DeprecationWarning: Call to deprecated create function FieldDescriptor(). Note: Create unlinked descriptors is going to go away. Please use get/find descriptors from generated code or query the descriptor_pool.\n",
      "  _descriptor.FieldDescriptor(\n",
      "\n",
      "2022-09-09 00:13:05,951 - py.warnings - WARNING - C:\\Users\\frede\\anaconda3\\envs\\unhcr-hate-speech-kedro\\lib\\site-packages\\tensorflow\\core\\framework\\resource_handle_pb2.py:104: DeprecationWarning: Call to deprecated create function FieldDescriptor(). Note: Create unlinked descriptors is going to go away. Please use get/find descriptors from generated code or query the descriptor_pool.\n",
      "  _descriptor.FieldDescriptor(\n",
      "\n",
      "2022-09-09 00:13:05,955 - py.warnings - WARNING - C:\\Users\\frede\\anaconda3\\envs\\unhcr-hate-speech-kedro\\lib\\site-packages\\tensorflow\\core\\framework\\resource_handle_pb2.py:111: DeprecationWarning: Call to deprecated create function FieldDescriptor(). Note: Create unlinked descriptors is going to go away. Please use get/find descriptors from generated code or query the descriptor_pool.\n",
      "  _descriptor.FieldDescriptor(\n",
      "\n",
      "2022-09-09 00:13:05,960 - py.warnings - WARNING - C:\\Users\\frede\\anaconda3\\envs\\unhcr-hate-speech-kedro\\lib\\site-packages\\tensorflow\\core\\framework\\resource_handle_pb2.py:69: DeprecationWarning: Call to deprecated create function Descriptor(). Note: Create unlinked descriptors is going to go away. Please use get/find descriptors from generated code or query the descriptor_pool.\n",
      "  _RESOURCEHANDLEPROTO = _descriptor.Descriptor(\n",
      "\n",
      "2022-09-09 00:13:05,965 - py.warnings - WARNING - C:\\Users\\frede\\anaconda3\\envs\\unhcr-hate-speech-kedro\\lib\\site-packages\\tensorflow\\core\\framework\\tensor_pb2.py:21: DeprecationWarning: Call to deprecated create function FileDescriptor(). Note: Create unlinked descriptors is going to go away. Please use get/find descriptors from generated code or query the descriptor_pool.\n",
      "  DESCRIPTOR = _descriptor.FileDescriptor(\n",
      "\n",
      "2022-09-09 00:13:05,968 - py.warnings - WARNING - C:\\Users\\frede\\anaconda3\\envs\\unhcr-hate-speech-kedro\\lib\\site-packages\\tensorflow\\core\\framework\\tensor_pb2.py:40: DeprecationWarning: Call to deprecated create function FieldDescriptor(). Note: Create unlinked descriptors is going to go away. Please use get/find descriptors from generated code or query the descriptor_pool.\n",
      "  _descriptor.FieldDescriptor(\n",
      "\n",
      "2022-09-09 00:13:05,973 - py.warnings - WARNING - C:\\Users\\frede\\anaconda3\\envs\\unhcr-hate-speech-kedro\\lib\\site-packages\\tensorflow\\core\\framework\\tensor_pb2.py:47: DeprecationWarning: Call to deprecated create function FieldDescriptor(). Note: Create unlinked descriptors is going to go away. Please use get/find descriptors from generated code or query the descriptor_pool.\n",
      "  _descriptor.FieldDescriptor(\n",
      "\n",
      "2022-09-09 00:13:05,978 - py.warnings - WARNING - C:\\Users\\frede\\anaconda3\\envs\\unhcr-hate-speech-kedro\\lib\\site-packages\\tensorflow\\core\\framework\\tensor_pb2.py:54: DeprecationWarning: Call to deprecated create function FieldDescriptor(). Note: Create unlinked descriptors is going to go away. Please use get/find descriptors from generated code or query the descriptor_pool.\n",
      "  _descriptor.FieldDescriptor(\n",
      "\n",
      "2022-09-09 00:13:05,982 - py.warnings - WARNING - C:\\Users\\frede\\anaconda3\\envs\\unhcr-hate-speech-kedro\\lib\\site-packages\\tensorflow\\core\\framework\\tensor_pb2.py:61: DeprecationWarning: Call to deprecated create function FieldDescriptor(). Note: Create unlinked descriptors is going to go away. Please use get/find descriptors from generated code or query the descriptor_pool.\n",
      "  _descriptor.FieldDescriptor(\n",
      "\n",
      "2022-09-09 00:13:05,986 - py.warnings - WARNING - C:\\Users\\frede\\anaconda3\\envs\\unhcr-hate-speech-kedro\\lib\\site-packages\\tensorflow\\core\\framework\\tensor_pb2.py:68: DeprecationWarning: Call to deprecated create function FieldDescriptor(). Note: Create unlinked descriptors is going to go away. Please use get/find descriptors from generated code or query the descriptor_pool.\n",
      "  _descriptor.FieldDescriptor(\n",
      "\n",
      "2022-09-09 00:13:05,991 - py.warnings - WARNING - C:\\Users\\frede\\anaconda3\\envs\\unhcr-hate-speech-kedro\\lib\\site-packages\\tensorflow\\core\\framework\\tensor_pb2.py:75: DeprecationWarning: Call to deprecated create function FieldDescriptor(). Note: Create unlinked descriptors is going to go away. Please use get/find descriptors from generated code or query the descriptor_pool.\n",
      "  _descriptor.FieldDescriptor(\n",
      "\n",
      "2022-09-09 00:13:05,996 - py.warnings - WARNING - C:\\Users\\frede\\anaconda3\\envs\\unhcr-hate-speech-kedro\\lib\\site-packages\\tensorflow\\core\\framework\\tensor_pb2.py:82: DeprecationWarning: Call to deprecated create function FieldDescriptor(). Note: Create unlinked descriptors is going to go away. Please use get/find descriptors from generated code or query the descriptor_pool.\n",
      "  _descriptor.FieldDescriptor(\n",
      "\n",
      "2022-09-09 00:13:06,000 - py.warnings - WARNING - C:\\Users\\frede\\anaconda3\\envs\\unhcr-hate-speech-kedro\\lib\\site-packages\\tensorflow\\core\\framework\\tensor_pb2.py:89: DeprecationWarning: Call to deprecated create function FieldDescriptor(). Note: Create unlinked descriptors is going to go away. Please use get/find descriptors from generated code or query the descriptor_pool.\n",
      "  _descriptor.FieldDescriptor(\n",
      "\n",
      "2022-09-09 00:13:06,004 - py.warnings - WARNING - C:\\Users\\frede\\anaconda3\\envs\\unhcr-hate-speech-kedro\\lib\\site-packages\\tensorflow\\core\\framework\\tensor_pb2.py:96: DeprecationWarning: Call to deprecated create function FieldDescriptor(). Note: Create unlinked descriptors is going to go away. Please use get/find descriptors from generated code or query the descriptor_pool.\n",
      "  _descriptor.FieldDescriptor(\n",
      "\n",
      "2022-09-09 00:13:06,009 - py.warnings - WARNING - C:\\Users\\frede\\anaconda3\\envs\\unhcr-hate-speech-kedro\\lib\\site-packages\\tensorflow\\core\\framework\\tensor_pb2.py:103: DeprecationWarning: Call to deprecated create function FieldDescriptor(). Note: Create unlinked descriptors is going to go away. Please use get/find descriptors from generated code or query the descriptor_pool.\n",
      "  _descriptor.FieldDescriptor(\n",
      "\n",
      "2022-09-09 00:13:06,013 - py.warnings - WARNING - C:\\Users\\frede\\anaconda3\\envs\\unhcr-hate-speech-kedro\\lib\\site-packages\\tensorflow\\core\\framework\\tensor_pb2.py:110: DeprecationWarning: Call to deprecated create function FieldDescriptor(). Note: Create unlinked descriptors is going to go away. Please use get/find descriptors from generated code or query the descriptor_pool.\n",
      "  _descriptor.FieldDescriptor(\n",
      "\n",
      "2022-09-09 00:13:06,017 - py.warnings - WARNING - C:\\Users\\frede\\anaconda3\\envs\\unhcr-hate-speech-kedro\\lib\\site-packages\\tensorflow\\core\\framework\\tensor_pb2.py:117: DeprecationWarning: Call to deprecated create function FieldDescriptor(). Note: Create unlinked descriptors is going to go away. Please use get/find descriptors from generated code or query the descriptor_pool.\n",
      "  _descriptor.FieldDescriptor(\n",
      "\n"
     ]
    },
    {
     "name": "stdout",
     "output_type": "stream",
     "text": [
      "2022-09-09 00:13:06,021 - py.warnings - WARNING - C:\\Users\\frede\\anaconda3\\envs\\unhcr-hate-speech-kedro\\lib\\site-packages\\tensorflow\\core\\framework\\tensor_pb2.py:124: DeprecationWarning: Call to deprecated create function FieldDescriptor(). Note: Create unlinked descriptors is going to go away. Please use get/find descriptors from generated code or query the descriptor_pool.\n",
      "  _descriptor.FieldDescriptor(\n",
      "\n",
      "2022-09-09 00:13:06,026 - py.warnings - WARNING - C:\\Users\\frede\\anaconda3\\envs\\unhcr-hate-speech-kedro\\lib\\site-packages\\tensorflow\\core\\framework\\tensor_pb2.py:131: DeprecationWarning: Call to deprecated create function FieldDescriptor(). Note: Create unlinked descriptors is going to go away. Please use get/find descriptors from generated code or query the descriptor_pool.\n",
      "  _descriptor.FieldDescriptor(\n",
      "\n",
      "2022-09-09 00:13:06,030 - py.warnings - WARNING - C:\\Users\\frede\\anaconda3\\envs\\unhcr-hate-speech-kedro\\lib\\site-packages\\tensorflow\\core\\framework\\tensor_pb2.py:138: DeprecationWarning: Call to deprecated create function FieldDescriptor(). Note: Create unlinked descriptors is going to go away. Please use get/find descriptors from generated code or query the descriptor_pool.\n",
      "  _descriptor.FieldDescriptor(\n",
      "\n",
      "2022-09-09 00:13:06,033 - py.warnings - WARNING - C:\\Users\\frede\\anaconda3\\envs\\unhcr-hate-speech-kedro\\lib\\site-packages\\tensorflow\\core\\framework\\tensor_pb2.py:145: DeprecationWarning: Call to deprecated create function FieldDescriptor(). Note: Create unlinked descriptors is going to go away. Please use get/find descriptors from generated code or query the descriptor_pool.\n",
      "  _descriptor.FieldDescriptor(\n",
      "\n",
      "2022-09-09 00:13:06,037 - py.warnings - WARNING - C:\\Users\\frede\\anaconda3\\envs\\unhcr-hate-speech-kedro\\lib\\site-packages\\tensorflow\\core\\framework\\tensor_pb2.py:152: DeprecationWarning: Call to deprecated create function FieldDescriptor(). Note: Create unlinked descriptors is going to go away. Please use get/find descriptors from generated code or query the descriptor_pool.\n",
      "  _descriptor.FieldDescriptor(\n",
      "\n",
      "2022-09-09 00:13:06,042 - py.warnings - WARNING - C:\\Users\\frede\\anaconda3\\envs\\unhcr-hate-speech-kedro\\lib\\site-packages\\tensorflow\\core\\framework\\tensor_pb2.py:33: DeprecationWarning: Call to deprecated create function Descriptor(). Note: Create unlinked descriptors is going to go away. Please use get/find descriptors from generated code or query the descriptor_pool.\n",
      "  _TENSORPROTO = _descriptor.Descriptor(\n",
      "\n",
      "2022-09-09 00:13:06,046 - py.warnings - WARNING - C:\\Users\\frede\\anaconda3\\envs\\unhcr-hate-speech-kedro\\lib\\site-packages\\tensorflow\\core\\framework\\tensor_pb2.py:183: DeprecationWarning: Call to deprecated create function FieldDescriptor(). Note: Create unlinked descriptors is going to go away. Please use get/find descriptors from generated code or query the descriptor_pool.\n",
      "  _descriptor.FieldDescriptor(\n",
      "\n",
      "2022-09-09 00:13:06,051 - py.warnings - WARNING - C:\\Users\\frede\\anaconda3\\envs\\unhcr-hate-speech-kedro\\lib\\site-packages\\tensorflow\\core\\framework\\tensor_pb2.py:190: DeprecationWarning: Call to deprecated create function FieldDescriptor(). Note: Create unlinked descriptors is going to go away. Please use get/find descriptors from generated code or query the descriptor_pool.\n",
      "  _descriptor.FieldDescriptor(\n",
      "\n",
      "2022-09-09 00:13:06,056 - py.warnings - WARNING - C:\\Users\\frede\\anaconda3\\envs\\unhcr-hate-speech-kedro\\lib\\site-packages\\tensorflow\\core\\framework\\tensor_pb2.py:197: DeprecationWarning: Call to deprecated create function FieldDescriptor(). Note: Create unlinked descriptors is going to go away. Please use get/find descriptors from generated code or query the descriptor_pool.\n",
      "  _descriptor.FieldDescriptor(\n",
      "\n",
      "2022-09-09 00:13:06,059 - py.warnings - WARNING - C:\\Users\\frede\\anaconda3\\envs\\unhcr-hate-speech-kedro\\lib\\site-packages\\tensorflow\\core\\framework\\tensor_pb2.py:176: DeprecationWarning: Call to deprecated create function Descriptor(). Note: Create unlinked descriptors is going to go away. Please use get/find descriptors from generated code or query the descriptor_pool.\n",
      "  _VARIANTTENSORDATAPROTO = _descriptor.Descriptor(\n",
      "\n",
      "2022-09-09 00:13:06,073 - py.warnings - WARNING - C:\\Users\\frede\\anaconda3\\envs\\unhcr-hate-speech-kedro\\lib\\site-packages\\tensorflow\\core\\framework\\attr_value_pb2.py:21: DeprecationWarning: Call to deprecated create function FileDescriptor(). Note: Create unlinked descriptors is going to go away. Please use get/find descriptors from generated code or query the descriptor_pool.\n",
      "  DESCRIPTOR = _descriptor.FileDescriptor(\n",
      "\n",
      "2022-09-09 00:13:06,077 - py.warnings - WARNING - C:\\Users\\frede\\anaconda3\\envs\\unhcr-hate-speech-kedro\\lib\\site-packages\\tensorflow\\core\\framework\\attr_value_pb2.py:40: DeprecationWarning: Call to deprecated create function FieldDescriptor(). Note: Create unlinked descriptors is going to go away. Please use get/find descriptors from generated code or query the descriptor_pool.\n",
      "  _descriptor.FieldDescriptor(\n",
      "\n",
      "2022-09-09 00:13:06,082 - py.warnings - WARNING - C:\\Users\\frede\\anaconda3\\envs\\unhcr-hate-speech-kedro\\lib\\site-packages\\tensorflow\\core\\framework\\attr_value_pb2.py:47: DeprecationWarning: Call to deprecated create function FieldDescriptor(). Note: Create unlinked descriptors is going to go away. Please use get/find descriptors from generated code or query the descriptor_pool.\n",
      "  _descriptor.FieldDescriptor(\n",
      "\n",
      "2022-09-09 00:13:06,086 - py.warnings - WARNING - C:\\Users\\frede\\anaconda3\\envs\\unhcr-hate-speech-kedro\\lib\\site-packages\\tensorflow\\core\\framework\\attr_value_pb2.py:54: DeprecationWarning: Call to deprecated create function FieldDescriptor(). Note: Create unlinked descriptors is going to go away. Please use get/find descriptors from generated code or query the descriptor_pool.\n",
      "  _descriptor.FieldDescriptor(\n",
      "\n",
      "2022-09-09 00:13:06,089 - py.warnings - WARNING - C:\\Users\\frede\\anaconda3\\envs\\unhcr-hate-speech-kedro\\lib\\site-packages\\tensorflow\\core\\framework\\attr_value_pb2.py:61: DeprecationWarning: Call to deprecated create function FieldDescriptor(). Note: Create unlinked descriptors is going to go away. Please use get/find descriptors from generated code or query the descriptor_pool.\n",
      "  _descriptor.FieldDescriptor(\n",
      "\n",
      "2022-09-09 00:13:06,093 - py.warnings - WARNING - C:\\Users\\frede\\anaconda3\\envs\\unhcr-hate-speech-kedro\\lib\\site-packages\\tensorflow\\core\\framework\\attr_value_pb2.py:68: DeprecationWarning: Call to deprecated create function FieldDescriptor(). Note: Create unlinked descriptors is going to go away. Please use get/find descriptors from generated code or query the descriptor_pool.\n",
      "  _descriptor.FieldDescriptor(\n",
      "\n",
      "2022-09-09 00:13:06,098 - py.warnings - WARNING - C:\\Users\\frede\\anaconda3\\envs\\unhcr-hate-speech-kedro\\lib\\site-packages\\tensorflow\\core\\framework\\attr_value_pb2.py:75: DeprecationWarning: Call to deprecated create function FieldDescriptor(). Note: Create unlinked descriptors is going to go away. Please use get/find descriptors from generated code or query the descriptor_pool.\n",
      "  _descriptor.FieldDescriptor(\n",
      "\n",
      "2022-09-09 00:13:06,102 - py.warnings - WARNING - C:\\Users\\frede\\anaconda3\\envs\\unhcr-hate-speech-kedro\\lib\\site-packages\\tensorflow\\core\\framework\\attr_value_pb2.py:82: DeprecationWarning: Call to deprecated create function FieldDescriptor(). Note: Create unlinked descriptors is going to go away. Please use get/find descriptors from generated code or query the descriptor_pool.\n",
      "  _descriptor.FieldDescriptor(\n",
      "\n",
      "2022-09-09 00:13:06,106 - py.warnings - WARNING - C:\\Users\\frede\\anaconda3\\envs\\unhcr-hate-speech-kedro\\lib\\site-packages\\tensorflow\\core\\framework\\attr_value_pb2.py:89: DeprecationWarning: Call to deprecated create function FieldDescriptor(). Note: Create unlinked descriptors is going to go away. Please use get/find descriptors from generated code or query the descriptor_pool.\n",
      "  _descriptor.FieldDescriptor(\n",
      "\n",
      "2022-09-09 00:13:06,110 - py.warnings - WARNING - C:\\Users\\frede\\anaconda3\\envs\\unhcr-hate-speech-kedro\\lib\\site-packages\\tensorflow\\core\\framework\\attr_value_pb2.py:33: DeprecationWarning: Call to deprecated create function Descriptor(). Note: Create unlinked descriptors is going to go away. Please use get/find descriptors from generated code or query the descriptor_pool.\n",
      "  _ATTRVALUE_LISTVALUE = _descriptor.Descriptor(\n",
      "\n"
     ]
    },
    {
     "name": "stdout",
     "output_type": "stream",
     "text": [
      "2022-09-09 00:13:08,875 - py.warnings - WARNING - C:\\Users\\frede\\anaconda3\\envs\\unhcr-hate-speech-kedro\\lib\\site-packages\\scipy\\__init__.py:146: UserWarning: A NumPy version >=1.16.5 and <1.23.0 is required for this version of SciPy (detected version 1.23.2\n",
      "  warnings.warn(f\"A NumPy version >={np_minversion} and <{np_maxversion}\"\n",
      "\n",
      "2022-09-09 00:13:09,583 - py.warnings - WARNING - C:\\Users\\frede\\anaconda3\\envs\\unhcr-hate-speech-kedro\\lib\\site-packages\\flatbuffers\\compat.py:19: DeprecationWarning: the imp module is deprecated in favour of importlib; see the module's documentation for alternative uses\n",
      "  import imp\n",
      "\n",
      "2022-09-09 00:13:10,495 - py.warnings - WARNING - C:\\Users\\frede\\anaconda3\\envs\\unhcr-hate-speech-kedro\\lib\\site-packages\\keras\\utils\\image_utils.py:36: DeprecationWarning: NEAREST is deprecated and will be removed in Pillow 10 (2023-07-01). Use Resampling.NEAREST or Dither.NONE instead.\n",
      "  'nearest': pil_image.NEAREST,\n",
      "\n",
      "2022-09-09 00:13:10,496 - py.warnings - WARNING - C:\\Users\\frede\\anaconda3\\envs\\unhcr-hate-speech-kedro\\lib\\site-packages\\keras\\utils\\image_utils.py:37: DeprecationWarning: BILINEAR is deprecated and will be removed in Pillow 10 (2023-07-01). Use Resampling.BILINEAR instead.\n",
      "  'bilinear': pil_image.BILINEAR,\n",
      "\n",
      "2022-09-09 00:13:10,500 - py.warnings - WARNING - C:\\Users\\frede\\anaconda3\\envs\\unhcr-hate-speech-kedro\\lib\\site-packages\\keras\\utils\\image_utils.py:38: DeprecationWarning: BICUBIC is deprecated and will be removed in Pillow 10 (2023-07-01). Use Resampling.BICUBIC instead.\n",
      "  'bicubic': pil_image.BICUBIC,\n",
      "\n",
      "2022-09-09 00:13:10,504 - py.warnings - WARNING - C:\\Users\\frede\\anaconda3\\envs\\unhcr-hate-speech-kedro\\lib\\site-packages\\keras\\utils\\image_utils.py:39: DeprecationWarning: HAMMING is deprecated and will be removed in Pillow 10 (2023-07-01). Use Resampling.HAMMING instead.\n",
      "  'hamming': pil_image.HAMMING,\n",
      "\n",
      "2022-09-09 00:13:10,508 - py.warnings - WARNING - C:\\Users\\frede\\anaconda3\\envs\\unhcr-hate-speech-kedro\\lib\\site-packages\\keras\\utils\\image_utils.py:40: DeprecationWarning: BOX is deprecated and will be removed in Pillow 10 (2023-07-01). Use Resampling.BOX instead.\n",
      "  'box': pil_image.BOX,\n",
      "\n",
      "2022-09-09 00:13:10,513 - py.warnings - WARNING - C:\\Users\\frede\\anaconda3\\envs\\unhcr-hate-speech-kedro\\lib\\site-packages\\keras\\utils\\image_utils.py:41: DeprecationWarning: LANCZOS is deprecated and will be removed in Pillow 10 (2023-07-01). Use Resampling.LANCZOS instead.\n",
      "  'lanczos': pil_image.LANCZOS,\n",
      "\n",
      "2022-09-09 00:13:11,166 - py.warnings - WARNING - C:\\Users\\frede\\anaconda3\\envs\\unhcr-hate-speech-kedro\\lib\\site-packages\\transformers\\image_utils.py:222: DeprecationWarning: BILINEAR is deprecated and will be removed in Pillow 10 (2023-07-01). Use Resampling.BILINEAR instead.\n",
      "  def resize(self, image, size, resample=PIL.Image.BILINEAR, default_to_square=True, max_size=None):\n",
      "\n"
     ]
    }
   ],
   "source": [
    "from transformers import AutoModelForSequenceClassification, pipeline, AutoTokenizer\n",
    "import shap"
   ]
  },
  {
   "cell_type": "markdown",
   "id": "4276801b",
   "metadata": {},
   "source": [
    "## Load Dataset"
   ]
  },
  {
   "cell_type": "code",
   "execution_count": 5,
   "id": "9629b465",
   "metadata": {},
   "outputs": [
    {
     "name": "stdout",
     "output_type": "stream",
     "text": [
      "2022-09-09 00:17:32,014 - kedro.io.data_catalog - INFO - Loading data from 'test_unhcr' (ParquetDataSet)...\n"
     ]
    }
   ],
   "source": [
    "unhcr_data = catalog.load(\"test_unhcr\")"
   ]
  },
  {
   "cell_type": "code",
   "execution_count": 6,
   "id": "3ad004dc",
   "metadata": {},
   "outputs": [
    {
     "data": {
      "text/html": [
       "<div>\n",
       "<style scoped>\n",
       "    .dataframe tbody tr th:only-of-type {\n",
       "        vertical-align: middle;\n",
       "    }\n",
       "\n",
       "    .dataframe tbody tr th {\n",
       "        vertical-align: top;\n",
       "    }\n",
       "\n",
       "    .dataframe thead th {\n",
       "        text-align: right;\n",
       "    }\n",
       "</style>\n",
       "<table border=\"1\" class=\"dataframe\">\n",
       "  <thead>\n",
       "    <tr style=\"text-align: right;\">\n",
       "      <th></th>\n",
       "      <th>text</th>\n",
       "      <th>label</th>\n",
       "      <th>dataset</th>\n",
       "    </tr>\n",
       "  </thead>\n",
       "  <tbody>\n",
       "    <tr>\n",
       "      <th>0</th>\n",
       "      <td>afganlaries we are not able to see suriyeleris...</td>\n",
       "      <td>2</td>\n",
       "      <td>unhcr</td>\n",
       "    </tr>\n",
       "    <tr>\n",
       "      <th>1</th>\n",
       "      <td>afghanistan is to biden as syria is to obama. ...</td>\n",
       "      <td>2</td>\n",
       "      <td>unhcr</td>\n",
       "    </tr>\n",
       "    <tr>\n",
       "      <th>2</th>\n",
       "      <td>refugeeswelcome is a terrorist organisation th...</td>\n",
       "      <td>2</td>\n",
       "      <td>unhcr</td>\n",
       "    </tr>\n",
       "    <tr>\n",
       "      <th>3</th>\n",
       "      <td>@ abcd76711747 boys owniest eimmigrant immigra...</td>\n",
       "      <td>2</td>\n",
       "      <td>unhcr</td>\n",
       "    </tr>\n",
       "    <tr>\n",
       "      <th>4</th>\n",
       "      <td>@USER @USER most are not refugees, they are bo...</td>\n",
       "      <td>2</td>\n",
       "      <td>unhcr</td>\n",
       "    </tr>\n",
       "  </tbody>\n",
       "</table>\n",
       "</div>"
      ]
     },
     "execution_count": 6,
     "metadata": {},
     "output_type": "execute_result"
    }
   ],
   "source": [
    "unhcr_data.head()"
   ]
  },
  {
   "cell_type": "markdown",
   "id": "5a4ba243",
   "metadata": {},
   "source": [
    "## Create Transformer Pipeline"
   ]
  },
  {
   "cell_type": "markdown",
   "id": "b844cf4c",
   "metadata": {},
   "source": [
    "Download tokenizer"
   ]
  },
  {
   "cell_type": "code",
   "execution_count": 11,
   "id": "22bb89ee",
   "metadata": {},
   "outputs": [],
   "source": [
    "def _download_tokenizer(tokenizer_identifier: str = \"unhcr/hatespeech-detection\"):\n",
    "    \"\"\"\n",
    "    Downloads the tokenizer that is associated\n",
    "    with the model from https://huggingface.co/unhcr/hatespeech-detection\n",
    "\n",
    "    Parameters\n",
    "    ----------\n",
    "    tokenizer_identifier : str\n",
    "        The name of Huggingface project that the tokenizer is associated with\n",
    "\n",
    "    Returns\n",
    "    -------\n",
    "    tokenizer\n",
    "        Huggingface transformer tokenizer\n",
    "    \"\"\"\n",
    "    return AutoTokenizer.from_pretrained(tokenizer_identifier)"
   ]
  },
  {
   "cell_type": "markdown",
   "id": "de944b9f",
   "metadata": {},
   "source": [
    "Download model"
   ]
  },
  {
   "cell_type": "code",
   "execution_count": 12,
   "id": "10eb80a7",
   "metadata": {},
   "outputs": [],
   "source": [
    "def _download_classifier(classifier_identifier: str = \"unhcr/hatespeech-detection\"):\n",
    "    \"\"\"\n",
    "    Downloads the model from https://huggingface.co/unhcr/hatespeech-detection\n",
    "\n",
    "    Parameters\n",
    "    ----------\n",
    "    classifier_identifier : str\n",
    "        The name of Huggingface project that the model is associated with\n",
    "\n",
    "    Returns\n",
    "    -------\n",
    "    model\n",
    "        Huggingface transformer model\n",
    "\n",
    "    Dict\n",
    "        Label mapping from ids to labels\n",
    "\n",
    "    \"\"\"\n",
    "    id2label = {\n",
    "        0: \"Normal\",\n",
    "        1: \"Offensive\",\n",
    "        2: \"Hate speech\",\n",
    "    }\n",
    "\n",
    "    label2id = {id2label[i]: i for i in id2label}\n",
    "\n",
    "    # TODO: add num_labels to config\n",
    "    model = AutoModelForSequenceClassification.from_pretrained(\n",
    "        classifier_identifier, num_labels=3, id2label=id2label, label2id=label2id\n",
    "    )\n",
    "\n",
    "    return model, id2label"
   ]
  },
  {
   "cell_type": "markdown",
   "id": "cdabbdb4",
   "metadata": {},
   "source": [
    "Create pipeline"
   ]
  },
  {
   "cell_type": "code",
   "execution_count": 15,
   "id": "26deaedf",
   "metadata": {},
   "outputs": [],
   "source": [
    "local = True\n",
    "tokenizer = _download_tokenizer()\n",
    "classifier, id2label = _download_classifier()\n",
    "\n",
    "inference_pipeline = pipeline(\n",
    "    task=\"text-classification\",\n",
    "    tokenizer=tokenizer,\n",
    "    model=classifier,\n",
    "    device=-1 if local else 0,\n",
    "    top_k=3,\n",
    "    max_length=128,\n",
    "    padding=True,\n",
    "    truncation=True,\n",
    ")"
   ]
  },
  {
   "cell_type": "markdown",
   "id": "e19a6f9b",
   "metadata": {},
   "source": [
    "## SHAP Analysis"
   ]
  },
  {
   "cell_type": "markdown",
   "id": "3605a3fa",
   "metadata": {},
   "source": [
    "The code below takes long time to run. It is advised that this is run on a GPU or large CPU.\n",
    "\n",
    "For the purpose of the example, shap values are only calculated for two text samples."
   ]
  },
  {
   "cell_type": "code",
   "execution_count": 21,
   "id": "9d64a63a",
   "metadata": {},
   "outputs": [
    {
     "name": "stdout",
     "output_type": "stream",
     "text": [
      "2022-09-09 00:31:20,563 - py.warnings - WARNING - `np.bool` is a deprecated alias for the builtin `bool`. To silence this warning, use `bool` by itself. Doing this will not modify any behavior and is safe. If you specifically wanted the numpy scalar type, use `np.bool_` here.\n",
      "Deprecated in NumPy 1.20; for more details and guidance: https://numpy.org/devdocs/release/1.20.0-notes.html#deprecations\n",
      "\n",
      "2022-09-09 00:31:20,564 - py.warnings - WARNING - `np.bool` is a deprecated alias for the builtin `bool`. To silence this warning, use `bool` by itself. Doing this will not modify any behavior and is safe. If you specifically wanted the numpy scalar type, use `np.bool_` here.\n",
      "Deprecated in NumPy 1.20; for more details and guidance: https://numpy.org/devdocs/release/1.20.0-notes.html#deprecations\n",
      "\n",
      "2022-09-09 00:31:20,568 - py.warnings - WARNING - `np.int` is a deprecated alias for the builtin `int`. To silence this warning, use `int` by itself. Doing this will not modify any behavior and is safe. When replacing `np.int`, you may wish to use e.g. `np.int64` or `np.int32` to specify the precision. If you wish to review your current use, check the release note link for additional information.\n",
      "Deprecated in NumPy 1.20; for more details and guidance: https://numpy.org/devdocs/release/1.20.0-notes.html#deprecations\n",
      "\n",
      "2022-09-09 00:31:20,572 - py.warnings - WARNING - `np.int` is a deprecated alias for the builtin `int`. To silence this warning, use `int` by itself. Doing this will not modify any behavior and is safe. When replacing `np.int`, you may wish to use e.g. `np.int64` or `np.int32` to specify the precision. If you wish to review your current use, check the release note link for additional information.\n",
      "Deprecated in NumPy 1.20; for more details and guidance: https://numpy.org/devdocs/release/1.20.0-notes.html#deprecations\n",
      "\n",
      "2022-09-09 00:31:20,576 - py.warnings - WARNING - `np.int` is a deprecated alias for the builtin `int`. To silence this warning, use `int` by itself. Doing this will not modify any behavior and is safe. When replacing `np.int`, you may wish to use e.g. `np.int64` or `np.int32` to specify the precision. If you wish to review your current use, check the release note link for additional information.\n",
      "Deprecated in NumPy 1.20; for more details and guidance: https://numpy.org/devdocs/release/1.20.0-notes.html#deprecations\n",
      "\n",
      "2022-09-09 00:31:20,581 - py.warnings - WARNING - `np.int` is a deprecated alias for the builtin `int`. To silence this warning, use `int` by itself. Doing this will not modify any behavior and is safe. When replacing `np.int`, you may wish to use e.g. `np.int64` or `np.int32` to specify the precision. If you wish to review your current use, check the release note link for additional information.\n",
      "Deprecated in NumPy 1.20; for more details and guidance: https://numpy.org/devdocs/release/1.20.0-notes.html#deprecations\n",
      "\n",
      "2022-09-09 00:31:20,585 - py.warnings - WARNING - `np.bool` is a deprecated alias for the builtin `bool`. To silence this warning, use `bool` by itself. Doing this will not modify any behavior and is safe. If you specifically wanted the numpy scalar type, use `np.bool_` here.\n",
      "Deprecated in NumPy 1.20; for more details and guidance: https://numpy.org/devdocs/release/1.20.0-notes.html#deprecations\n",
      "\n",
      "2022-09-09 00:31:20,589 - py.warnings - WARNING - `np.bool` is a deprecated alias for the builtin `bool`. To silence this warning, use `bool` by itself. Doing this will not modify any behavior and is safe. If you specifically wanted the numpy scalar type, use `np.bool_` here.\n",
      "Deprecated in NumPy 1.20; for more details and guidance: https://numpy.org/devdocs/release/1.20.0-notes.html#deprecations\n",
      "\n",
      "2022-09-09 00:31:20,995 - py.warnings - WARNING - `np.int` is a deprecated alias for the builtin `int`. To silence this warning, use `int` by itself. Doing this will not modify any behavior and is safe. When replacing `np.int`, you may wish to use e.g. `np.int64` or `np.int32` to specify the precision. If you wish to review your current use, check the release note link for additional information.\n",
      "Deprecated in NumPy 1.20; for more details and guidance: https://numpy.org/devdocs/release/1.20.0-notes.html#deprecations\n",
      "\n",
      "2022-09-09 00:31:20,997 - py.warnings - WARNING - `np.int` is a deprecated alias for the builtin `int`. To silence this warning, use `int` by itself. Doing this will not modify any behavior and is safe. When replacing `np.int`, you may wish to use e.g. `np.int64` or `np.int32` to specify the precision. If you wish to review your current use, check the release note link for additional information.\n",
      "Deprecated in NumPy 1.20; for more details and guidance: https://numpy.org/devdocs/release/1.20.0-notes.html#deprecations\n",
      "\n",
      "2022-09-09 00:31:21,001 - py.warnings - WARNING - `np.int` is a deprecated alias for the builtin `int`. To silence this warning, use `int` by itself. Doing this will not modify any behavior and is safe. When replacing `np.int`, you may wish to use e.g. `np.int64` or `np.int32` to specify the precision. If you wish to review your current use, check the release note link for additional information.\n",
      "Deprecated in NumPy 1.20; for more details and guidance: https://numpy.org/devdocs/release/1.20.0-notes.html#deprecations\n",
      "\n",
      "2022-09-09 00:31:21,005 - py.warnings - WARNING - `np.bool` is a deprecated alias for the builtin `bool`. To silence this warning, use `bool` by itself. Doing this will not modify any behavior and is safe. If you specifically wanted the numpy scalar type, use `np.bool_` here.\n",
      "Deprecated in NumPy 1.20; for more details and guidance: https://numpy.org/devdocs/release/1.20.0-notes.html#deprecations\n",
      "\n",
      "2022-09-09 00:31:21,010 - py.warnings - WARNING - `np.bool` is a deprecated alias for the builtin `bool`. To silence this warning, use `bool` by itself. Doing this will not modify any behavior and is safe. If you specifically wanted the numpy scalar type, use `np.bool_` here.\n",
      "Deprecated in NumPy 1.20; for more details and guidance: https://numpy.org/devdocs/release/1.20.0-notes.html#deprecations\n",
      "\n"
     ]
    },
    {
     "data": {
      "application/vnd.jupyter.widget-view+json": {
       "model_id": "",
       "version_major": 2,
       "version_minor": 0
      },
      "text/plain": [
       "  0%|          | 0/498 [00:00<?, ?it/s]"
      ]
     },
     "metadata": {},
     "output_type": "display_data"
    },
    {
     "name": "stderr",
     "output_type": "stream",
     "text": [
      "\r",
      "Partition explainer:  50%|███████████████████████████████████████████████████▌                                                   | 1/2 [00:00<?, ?it/s]"
     ]
    },
    {
     "data": {
      "application/vnd.jupyter.widget-view+json": {
       "model_id": "",
       "version_major": 2,
       "version_minor": 0
      },
      "text/plain": [
       "  0%|          | 0/498 [00:00<?, ?it/s]"
      ]
     },
     "metadata": {},
     "output_type": "display_data"
    },
    {
     "name": "stderr",
     "output_type": "stream",
     "text": [
      "Partition explainer: 3it [03:03, 91.62s/it]                                                                                                            "
     ]
    },
    {
     "name": "stdout",
     "output_type": "stream",
     "text": [
      "2022-09-09 00:34:23,795 - py.warnings - WARNING - `np.object` is a deprecated alias for the builtin `object`. To silence this warning, use `object` by itself. Doing this will not modify any behavior and is safe. \n",
      "Deprecated in NumPy 1.20; for more details and guidance: https://numpy.org/devdocs/release/1.20.0-notes.html#deprecations\n",
      "\n",
      "2022-09-09 00:34:23,799 - py.warnings - WARNING - `np.bool` is a deprecated alias for the builtin `bool`. To silence this warning, use `bool` by itself. Doing this will not modify any behavior and is safe. If you specifically wanted the numpy scalar type, use `np.bool_` here.\n",
      "Deprecated in NumPy 1.20; for more details and guidance: https://numpy.org/devdocs/release/1.20.0-notes.html#deprecations\n",
      "\n"
     ]
    },
    {
     "name": "stderr",
     "output_type": "stream",
     "text": [
      "\n"
     ]
    }
   ],
   "source": [
    "explainer = shap.Explainer(inference_pipeline, inference_pipeline.tokenizer)\n",
    "shap_values = explainer(unhcr_data[\"text\"][:2])"
   ]
  },
  {
   "cell_type": "markdown",
   "id": "50c657d0",
   "metadata": {},
   "source": [
    "### Sentence-level: Text"
   ]
  },
  {
   "cell_type": "code",
   "execution_count": null,
   "id": "1a663306",
   "metadata": {},
   "outputs": [],
   "source": [
    "# Plot the results for the first sentence\n",
    "shap.plots.text(shap_values[0])"
   ]
  },
  {
   "cell_type": "markdown",
   "id": "097bee39",
   "metadata": {},
   "source": [
    "### Sentence-level: Waterfall"
   ]
  },
  {
   "cell_type": "code",
   "execution_count": null,
   "id": "3094d163",
   "metadata": {},
   "outputs": [],
   "source": [
    "shap.plots.waterfall(shap_values[0])"
   ]
  },
  {
   "cell_type": "markdown",
   "id": "684c4caa",
   "metadata": {},
   "source": [
    "### Top Most Important Features for the Hate Speech Class"
   ]
  },
  {
   "cell_type": "code",
   "execution_count": null,
   "id": "1e6ffa11",
   "metadata": {},
   "outputs": [],
   "source": [
    "shap.plots.bar(shap_values[:,:,2].mean(0), order=shap.Explanation.argsort.flip, max_display=15)"
   ]
  }
 ],
 "metadata": {
  "kernelspec": {
   "display_name": "Kedro (unhcr_hatespeech)",
   "language": "python",
   "name": "kedro_unhcr_hatespeech"
  },
  "language_info": {
   "codemirror_mode": {
    "name": "ipython",
    "version": 3
   },
   "file_extension": ".py",
   "mimetype": "text/x-python",
   "name": "python",
   "nbconvert_exporter": "python",
   "pygments_lexer": "ipython3",
   "version": "3.9.12"
  }
 },
 "nbformat": 4,
 "nbformat_minor": 5
}
